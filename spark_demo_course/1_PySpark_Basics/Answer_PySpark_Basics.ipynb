{
 "cells": [
  {
   "cell_type": "markdown",
   "id": "trained-moses",
   "metadata": {},
   "source": [
    "import libraries(I provide all libs that I need when make this tasks, if you need some external import them here)"
   ]
  },
  {
   "cell_type": "code",
   "execution_count": 1,
   "id": "induced-african",
   "metadata": {
    "ExecuteTime": {
     "start_time": "2023-04-22T19:10:00.493514Z",
     "end_time": "2023-04-22T19:10:00.596635Z"
    }
   },
   "outputs": [],
   "source": [
    "import pyspark\n",
    "from pyspark.sql import SparkSession\n",
    "from pyspark.sql.types import StructType, StructField, IntegerType, StringType\n",
    "from pyspark.sql.functions import col\n",
    "from pyspark.sql.functions import max, avg, min\n",
    "from pyspark.sql.window import Window\n",
    "from pyspark.sql.functions import row_number\n",
    "from pyspark.sql.functions import when\n",
    "\n",
    "import findspark\n",
    "findspark.init()"
   ]
  },
  {
   "cell_type": "markdown",
   "id": "permanent-photographer",
   "metadata": {},
   "source": [
    "create local SparkSession"
   ]
  },
  {
   "cell_type": "code",
   "execution_count": 2,
   "id": "stock-partnership",
   "metadata": {
    "ExecuteTime": {
     "start_time": "2023-04-22T19:10:00.598361Z",
     "end_time": "2023-04-22T19:10:02.854043Z"
    }
   },
   "outputs": [
    {
     "name": "stderr",
     "output_type": "stream",
     "text": [
      "23/04/22 19:10:01 WARN Utils: Your hostname, ToniPaltus resolves to a loopback address: 127.0.1.1; using 192.168.0.105 instead (on interface enp3s0)\n",
      "23/04/22 19:10:01 WARN Utils: Set SPARK_LOCAL_IP if you need to bind to another address\n",
      "Setting default log level to \"WARN\".\n",
      "To adjust logging level use sc.setLogLevel(newLevel). For SparkR, use setLogLevel(newLevel).\n",
      "23/04/22 19:10:01 WARN NativeCodeLoader: Unable to load native-hadoop library for your platform... using builtin-java classes where applicable\n"
     ]
    },
    {
     "name": "stdout",
     "output_type": "stream",
     "text": [
      "CPU times: user 36.8 ms, sys: 52.2 ms, total: 89 ms\n",
      "Wall time: 2.25 s\n"
     ]
    }
   ],
   "source": [
    "%%time\n",
    "spark = SparkSession.builder.appName('myApp').master('local[*]').getOrCreate()"
   ]
  },
  {
   "cell_type": "markdown",
   "id": "juvenile-blame",
   "metadata": {},
   "source": [
    "read csv with inferschema"
   ]
  },
  {
   "cell_type": "code",
   "execution_count": 3,
   "id": "computational-liverpool",
   "metadata": {
    "ExecuteTime": {
     "start_time": "2023-04-22T19:10:02.853077Z",
     "end_time": "2023-04-22T19:10:05.807967Z"
    }
   },
   "outputs": [
    {
     "name": "stdout",
     "output_type": "stream",
     "text": [
      "CPU times: user 3.93 ms, sys: 0 ns, total: 3.93 ms\n",
      "Wall time: 2.95 s\n"
     ]
    }
   ],
   "source": [
    "%%time\n",
    "df = spark.read.options(header=True, inferSchema=True).csv('dataset/ds_salaries.csv')"
   ]
  },
  {
   "cell_type": "markdown",
   "id": "stopped-dominant",
   "metadata": {},
   "source": [
    "read csv one more time with the same code and you will see that it almostly don't take time, because info already in SparkSession and it will not read nothing\n",
    "from this file"
   ]
  },
  {
   "cell_type": "code",
   "execution_count": 4,
   "id": "aging-neighborhood",
   "metadata": {
    "ExecuteTime": {
     "start_time": "2023-04-22T19:10:05.809054Z",
     "end_time": "2023-04-22T19:10:06.056581Z"
    }
   },
   "outputs": [
    {
     "name": "stdout",
     "output_type": "stream",
     "text": [
      "CPU times: user 3.27 ms, sys: 0 ns, total: 3.27 ms\n",
      "Wall time: 227 ms\n"
     ]
    }
   ],
   "source": [
    "%%time\n",
    "df = spark.read.options(header=True, inferSchema=True).csv('dataset/ds_salaries.csv')"
   ]
  },
  {
   "cell_type": "markdown",
   "id": "mature-tomorrow",
   "metadata": {},
   "source": [
    "write schema of scv on screen"
   ]
  },
  {
   "cell_type": "code",
   "execution_count": 5,
   "id": "least-communications",
   "metadata": {
    "ExecuteTime": {
     "start_time": "2023-04-22T19:10:06.039327Z",
     "end_time": "2023-04-22T19:10:06.057126Z"
    }
   },
   "outputs": [
    {
     "name": "stdout",
     "output_type": "stream",
     "text": [
      "root\n",
      " |-- _c0: integer (nullable = true)\n",
      " |-- work_year: integer (nullable = true)\n",
      " |-- experience_level: string (nullable = true)\n",
      " |-- employment_type: string (nullable = true)\n",
      " |-- job_title: string (nullable = true)\n",
      " |-- salary: integer (nullable = true)\n",
      " |-- salary_currency: string (nullable = true)\n",
      " |-- salary_in_usd: integer (nullable = true)\n",
      " |-- employee_residence: string (nullable = true)\n",
      " |-- remote_ratio: integer (nullable = true)\n",
      " |-- company_location: string (nullable = true)\n",
      " |-- company_size: string (nullable = true)\n",
      "\n",
      "CPU times: user 1.42 ms, sys: 0 ns, total: 1.42 ms\n",
      "Wall time: 1.72 ms\n"
     ]
    }
   ],
   "source": [
    "%%time\n",
    "df.printSchema()"
   ]
  },
  {
   "cell_type": "markdown",
   "id": "connected-brother",
   "metadata": {},
   "source": [
    "create schema of this scv"
   ]
  },
  {
   "cell_type": "code",
   "execution_count": 6,
   "id": "progressive-dictionary",
   "metadata": {
    "ExecuteTime": {
     "start_time": "2023-04-22T19:10:06.044614Z",
     "end_time": "2023-04-22T19:10:06.057369Z"
    }
   },
   "outputs": [],
   "source": [
    "my_schema = StructType([\n",
    "        StructField('id', IntegerType(), False),\n",
    "        StructField('work_year', IntegerType(), False),\n",
    "        StructField('experience_lev', StringType(), False),\n",
    "        StructField('employee_type', StringType(), False),\n",
    "        StructField('job_title', StringType(), False),\n",
    "        StructField('salary', IntegerType(), False),\n",
    "        StructField('salary_currency', StringType(), False),\n",
    "        StructField('salary_in_usd', IntegerType(), False),\n",
    "        StructField('employee_residence', StringType(), False),\n",
    "        StructField('remote_ratio', IntegerType(), False),\n",
    "        StructField('company_location', StringType(), False),\n",
    "        StructField('company_size', StringType(), False)\n",
    "     ])"
   ]
  },
  {
   "cell_type": "markdown",
   "id": "auburn-sauce",
   "metadata": {},
   "source": [
    "restart kernel without cleaning output and after restarting you need to initialize SparkSession, after initialize start execute only cells from cell with schema=\n",
    "=StructType.... \n",
    "To restart kernel click Kernel, Restart."
   ]
  },
  {
   "cell_type": "markdown",
   "id": "artistic-hospital",
   "metadata": {},
   "source": [
    "read ds_salaries with predefined schema and compare results from this cell and cell with inferSchema"
   ]
  },
  {
   "cell_type": "code",
   "execution_count": 7,
   "id": "literary-plaintiff",
   "metadata": {
    "ExecuteTime": {
     "start_time": "2023-04-22T19:10:06.052408Z",
     "end_time": "2023-04-22T19:10:06.202980Z"
    }
   },
   "outputs": [
    {
     "name": "stdout",
     "output_type": "stream",
     "text": [
      "CPU times: user 3.62 ms, sys: 0 ns, total: 3.62 ms\n",
      "Wall time: 39.6 ms\n"
     ]
    }
   ],
   "source": [
    "%%time\n",
    "new_df = spark.read.options(header=True).schema(my_schema).csv('dataset/ds_salaries.csv')"
   ]
  },
  {
   "cell_type": "markdown",
   "id": "senior-joint",
   "metadata": {},
   "source": [
    "this happens because read operation is lazy(transformation), but if you use inferschema it start to be action that will create Spark Job, because Spark need to loop throw all file to check datatypes for all columns and this can harm to your code(if we compare to parquet, it will also go to check data types, but parquet provide meta information, so Spark will not go throw all file, he will just read meta information, but csv don't provide such meta information). Also header make Spark to create one more Spark Job to check first line\n",
    "to define name of columns and remember to skeep it when reading. Actual reading start when you will use first action. More about Spark Jobs you will see in next topic"
   ]
  },
  {
   "cell_type": "markdown",
   "id": "underlying-assurance",
   "metadata": {},
   "source": [
    "write schema of scv on screen one more time and compare with previous"
   ]
  },
  {
   "cell_type": "code",
   "execution_count": 8,
   "id": "solid-infection",
   "metadata": {
    "ExecuteTime": {
     "start_time": "2023-04-22T19:10:06.094883Z",
     "end_time": "2023-04-22T19:10:06.203923Z"
    }
   },
   "outputs": [
    {
     "name": "stdout",
     "output_type": "stream",
     "text": [
      "root\n",
      " |-- id: integer (nullable = true)\n",
      " |-- work_year: integer (nullable = true)\n",
      " |-- experience_lev: string (nullable = true)\n",
      " |-- employee_type: string (nullable = true)\n",
      " |-- job_title: string (nullable = true)\n",
      " |-- salary: integer (nullable = true)\n",
      " |-- salary_currency: string (nullable = true)\n",
      " |-- salary_in_usd: integer (nullable = true)\n",
      " |-- employee_residence: string (nullable = true)\n",
      " |-- remote_ratio: integer (nullable = true)\n",
      " |-- company_location: string (nullable = true)\n",
      " |-- company_size: string (nullable = true)\n",
      "\n",
      "CPU times: user 882 µs, sys: 606 µs, total: 1.49 ms\n",
      "Wall time: 1.04 ms\n"
     ]
    }
   ],
   "source": [
    "%%time\n",
    "new_df.printSchema()"
   ]
  },
  {
   "cell_type": "markdown",
   "id": "close-water",
   "metadata": {},
   "source": [
    "now continue to work with one of the dataframes that you create"
   ]
  },
  {
   "cell_type": "markdown",
   "id": "piano-belgium",
   "metadata": {},
   "source": [
    "print data in dataframe using df.show"
   ]
  },
  {
   "cell_type": "code",
   "execution_count": 9,
   "id": "legendary-alarm",
   "metadata": {
    "ExecuteTime": {
     "start_time": "2023-04-22T19:10:06.101561Z",
     "end_time": "2023-04-22T19:10:06.372842Z"
    }
   },
   "outputs": [
    {
     "name": "stdout",
     "output_type": "stream",
     "text": [
      "+---+---------+----------------+---------------+--------------------+--------+---------------+-------------+------------------+------------+----------------+------------+\n",
      "| id|work_year|experience_level|employment_type|           job_title|  salary|salary_currency|salary_in_usd|employee_residence|remote_ratio|company_location|company_size|\n",
      "+---+---------+----------------+---------------+--------------------+--------+---------------+-------------+------------------+------------+----------------+------------+\n",
      "|  0|     2020|              MI|             FT|      Data Scientist|   70000|            EUR|        79833|                DE|           0|              DE|           L|\n",
      "|  1|     2020|              SE|             FT|Machine Learning ...|  260000|            USD|       260000|                JP|           0|              JP|           S|\n",
      "|  2|     2020|              SE|             FT|   Big Data Engineer|   85000|            GBP|       109024|                GB|          50|              GB|           M|\n",
      "|  3|     2020|              MI|             FT|Product Data Analyst|   20000|            USD|        20000|                HN|           0|              HN|           S|\n",
      "|  4|     2020|              SE|             FT|Machine Learning ...|  150000|            USD|       150000|                US|          50|              US|           L|\n",
      "|  5|     2020|              EN|             FT|        Data Analyst|   72000|            USD|        72000|                US|         100|              US|           L|\n",
      "|  6|     2020|              SE|             FT| Lead Data Scientist|  190000|            USD|       190000|                US|         100|              US|           S|\n",
      "|  7|     2020|              MI|             FT|      Data Scientist|11000000|            HUF|        35735|                HU|          50|              HU|           L|\n",
      "|  8|     2020|              MI|             FT|Business Data Ana...|  135000|            USD|       135000|                US|         100|              US|           L|\n",
      "|  9|     2020|              SE|             FT|  Lead Data Engineer|  125000|            USD|       125000|                NZ|          50|              NZ|           S|\n",
      "| 10|     2020|              EN|             FT|      Data Scientist|   45000|            EUR|        51321|                FR|           0|              FR|           S|\n",
      "| 11|     2020|              MI|             FT|      Data Scientist| 3000000|            INR|        40481|                IN|           0|              IN|           L|\n",
      "| 12|     2020|              EN|             FT|      Data Scientist|   35000|            EUR|        39916|                FR|           0|              FR|           M|\n",
      "| 13|     2020|              MI|             FT|   Lead Data Analyst|   87000|            USD|        87000|                US|         100|              US|           L|\n",
      "| 14|     2020|              MI|             FT|        Data Analyst|   85000|            USD|        85000|                US|         100|              US|           L|\n",
      "| 15|     2020|              MI|             FT|        Data Analyst|    8000|            USD|         8000|                PK|          50|              PK|           L|\n",
      "| 16|     2020|              EN|             FT|       Data Engineer| 4450000|            JPY|        41689|                JP|         100|              JP|           S|\n",
      "| 17|     2020|              SE|             FT|   Big Data Engineer|  100000|            EUR|       114047|                PL|         100|              GB|           S|\n",
      "| 18|     2020|              EN|             FT|Data Science Cons...|  423000|            INR|         5707|                IN|          50|              IN|           M|\n",
      "| 19|     2020|              MI|             FT|  Lead Data Engineer|   56000|            USD|        56000|                PT|         100|              US|           M|\n",
      "+---+---------+----------------+---------------+--------------------+--------+---------------+-------------+------------------+------------+----------------+------------+\n",
      "only showing top 20 rows\n",
      "\n",
      "CPU times: user 3.27 ms, sys: 0 ns, total: 3.27 ms\n",
      "Wall time: 255 ms\n"
     ]
    },
    {
     "name": "stderr",
     "output_type": "stream",
     "text": [
      "23/04/22 19:10:06 WARN CSVHeaderChecker: CSV header does not conform to the schema.\n",
      " Header: , work_year, experience_level, employment_type, job_title, salary, salary_currency, salary_in_usd, employee_residence, remote_ratio, company_location, company_size\n",
      " Schema: _c0, work_year, experience_level, employment_type, job_title, salary, salary_currency, salary_in_usd, employee_residence, remote_ratio, company_location, company_size\n",
      "Expected: _c0 but found: \n",
      "CSV file: file:///home/tonipaltus/Innowise/spark_demo/spark_demo_course/1_PySpark_Basics/dataset/ds_salaries.csv\n"
     ]
    }
   ],
   "source": [
    "%%time\n",
    "df = df.withColumnRenamed('_c0', 'id')\n",
    "df.show()"
   ]
  },
  {
   "cell_type": "markdown",
   "id": "tamil-medium",
   "metadata": {},
   "source": [
    "print data in dataframe using display(df.toPandas())"
   ]
  },
  {
   "cell_type": "code",
   "execution_count": 10,
   "id": "connected-dryer",
   "metadata": {
    "ExecuteTime": {
     "start_time": "2023-04-22T19:10:06.363762Z",
     "end_time": "2023-04-22T19:10:06.812280Z"
    }
   },
   "outputs": [
    {
     "name": "stderr",
     "output_type": "stream",
     "text": [
      "23/04/22 19:10:06 WARN CSVHeaderChecker: CSV header does not conform to the schema.\n",
      " Header: , work_year, experience_level, employment_type, job_title, salary, salary_currency, salary_in_usd, employee_residence, remote_ratio, company_location, company_size\n",
      " Schema: _c0, work_year, experience_level, employment_type, job_title, salary, salary_currency, salary_in_usd, employee_residence, remote_ratio, company_location, company_size\n",
      "Expected: _c0 but found: \n",
      "CSV file: file:///home/tonipaltus/Innowise/spark_demo/spark_demo_course/1_PySpark_Basics/dataset/ds_salaries.csv\n"
     ]
    },
    {
     "data": {
      "text/plain": "      id  work_year experience_level employment_type   \n0      0       2020               MI              FT  \\\n1      1       2020               SE              FT   \n2      2       2020               SE              FT   \n3      3       2020               MI              FT   \n4      4       2020               SE              FT   \n..   ...        ...              ...             ...   \n602  602       2022               SE              FT   \n603  603       2022               SE              FT   \n604  604       2022               SE              FT   \n605  605       2022               SE              FT   \n606  606       2022               MI              FT   \n\n                      job_title  salary salary_currency  salary_in_usd   \n0                Data Scientist   70000             EUR          79833  \\\n1    Machine Learning Scientist  260000             USD         260000   \n2             Big Data Engineer   85000             GBP         109024   \n3          Product Data Analyst   20000             USD          20000   \n4     Machine Learning Engineer  150000             USD         150000   \n..                          ...     ...             ...            ...   \n602               Data Engineer  154000             USD         154000   \n603               Data Engineer  126000             USD         126000   \n604                Data Analyst  129000             USD         129000   \n605                Data Analyst  150000             USD         150000   \n606                AI Scientist  200000             USD         200000   \n\n    employee_residence  remote_ratio company_location company_size  \n0                   DE             0               DE            L  \n1                   JP             0               JP            S  \n2                   GB            50               GB            M  \n3                   HN             0               HN            S  \n4                   US            50               US            L  \n..                 ...           ...              ...          ...  \n602                 US           100               US            M  \n603                 US           100               US            M  \n604                 US             0               US            M  \n605                 US           100               US            M  \n606                 IN           100               US            L  \n\n[607 rows x 12 columns]",
      "text/html": "<div>\n<style scoped>\n    .dataframe tbody tr th:only-of-type {\n        vertical-align: middle;\n    }\n\n    .dataframe tbody tr th {\n        vertical-align: top;\n    }\n\n    .dataframe thead th {\n        text-align: right;\n    }\n</style>\n<table border=\"1\" class=\"dataframe\">\n  <thead>\n    <tr style=\"text-align: right;\">\n      <th></th>\n      <th>id</th>\n      <th>work_year</th>\n      <th>experience_level</th>\n      <th>employment_type</th>\n      <th>job_title</th>\n      <th>salary</th>\n      <th>salary_currency</th>\n      <th>salary_in_usd</th>\n      <th>employee_residence</th>\n      <th>remote_ratio</th>\n      <th>company_location</th>\n      <th>company_size</th>\n    </tr>\n  </thead>\n  <tbody>\n    <tr>\n      <th>0</th>\n      <td>0</td>\n      <td>2020</td>\n      <td>MI</td>\n      <td>FT</td>\n      <td>Data Scientist</td>\n      <td>70000</td>\n      <td>EUR</td>\n      <td>79833</td>\n      <td>DE</td>\n      <td>0</td>\n      <td>DE</td>\n      <td>L</td>\n    </tr>\n    <tr>\n      <th>1</th>\n      <td>1</td>\n      <td>2020</td>\n      <td>SE</td>\n      <td>FT</td>\n      <td>Machine Learning Scientist</td>\n      <td>260000</td>\n      <td>USD</td>\n      <td>260000</td>\n      <td>JP</td>\n      <td>0</td>\n      <td>JP</td>\n      <td>S</td>\n    </tr>\n    <tr>\n      <th>2</th>\n      <td>2</td>\n      <td>2020</td>\n      <td>SE</td>\n      <td>FT</td>\n      <td>Big Data Engineer</td>\n      <td>85000</td>\n      <td>GBP</td>\n      <td>109024</td>\n      <td>GB</td>\n      <td>50</td>\n      <td>GB</td>\n      <td>M</td>\n    </tr>\n    <tr>\n      <th>3</th>\n      <td>3</td>\n      <td>2020</td>\n      <td>MI</td>\n      <td>FT</td>\n      <td>Product Data Analyst</td>\n      <td>20000</td>\n      <td>USD</td>\n      <td>20000</td>\n      <td>HN</td>\n      <td>0</td>\n      <td>HN</td>\n      <td>S</td>\n    </tr>\n    <tr>\n      <th>4</th>\n      <td>4</td>\n      <td>2020</td>\n      <td>SE</td>\n      <td>FT</td>\n      <td>Machine Learning Engineer</td>\n      <td>150000</td>\n      <td>USD</td>\n      <td>150000</td>\n      <td>US</td>\n      <td>50</td>\n      <td>US</td>\n      <td>L</td>\n    </tr>\n    <tr>\n      <th>...</th>\n      <td>...</td>\n      <td>...</td>\n      <td>...</td>\n      <td>...</td>\n      <td>...</td>\n      <td>...</td>\n      <td>...</td>\n      <td>...</td>\n      <td>...</td>\n      <td>...</td>\n      <td>...</td>\n      <td>...</td>\n    </tr>\n    <tr>\n      <th>602</th>\n      <td>602</td>\n      <td>2022</td>\n      <td>SE</td>\n      <td>FT</td>\n      <td>Data Engineer</td>\n      <td>154000</td>\n      <td>USD</td>\n      <td>154000</td>\n      <td>US</td>\n      <td>100</td>\n      <td>US</td>\n      <td>M</td>\n    </tr>\n    <tr>\n      <th>603</th>\n      <td>603</td>\n      <td>2022</td>\n      <td>SE</td>\n      <td>FT</td>\n      <td>Data Engineer</td>\n      <td>126000</td>\n      <td>USD</td>\n      <td>126000</td>\n      <td>US</td>\n      <td>100</td>\n      <td>US</td>\n      <td>M</td>\n    </tr>\n    <tr>\n      <th>604</th>\n      <td>604</td>\n      <td>2022</td>\n      <td>SE</td>\n      <td>FT</td>\n      <td>Data Analyst</td>\n      <td>129000</td>\n      <td>USD</td>\n      <td>129000</td>\n      <td>US</td>\n      <td>0</td>\n      <td>US</td>\n      <td>M</td>\n    </tr>\n    <tr>\n      <th>605</th>\n      <td>605</td>\n      <td>2022</td>\n      <td>SE</td>\n      <td>FT</td>\n      <td>Data Analyst</td>\n      <td>150000</td>\n      <td>USD</td>\n      <td>150000</td>\n      <td>US</td>\n      <td>100</td>\n      <td>US</td>\n      <td>M</td>\n    </tr>\n    <tr>\n      <th>606</th>\n      <td>606</td>\n      <td>2022</td>\n      <td>MI</td>\n      <td>FT</td>\n      <td>AI Scientist</td>\n      <td>200000</td>\n      <td>USD</td>\n      <td>200000</td>\n      <td>IN</td>\n      <td>100</td>\n      <td>US</td>\n      <td>L</td>\n    </tr>\n  </tbody>\n</table>\n<p>607 rows × 12 columns</p>\n</div>"
     },
     "metadata": {},
     "output_type": "display_data"
    },
    {
     "name": "stdout",
     "output_type": "stream",
     "text": [
      "CPU times: user 200 ms, sys: 4.24 ms, total: 204 ms\n",
      "Wall time: 358 ms\n"
     ]
    }
   ],
   "source": [
    "%%time\n",
    "display(df.toPandas())"
   ]
  },
  {
   "cell_type": "markdown",
   "id": "opponent-gazette",
   "metadata": {},
   "source": [
    "create df_job_title that consists from all job_titles without duplicates"
   ]
  },
  {
   "cell_type": "code",
   "execution_count": 11,
   "id": "friendly-cartridge",
   "metadata": {
    "ExecuteTime": {
     "start_time": "2023-04-22T19:10:06.725634Z",
     "end_time": "2023-04-22T19:10:06.813607Z"
    }
   },
   "outputs": [
    {
     "name": "stdout",
     "output_type": "stream",
     "text": [
      "CPU times: user 0 ns, sys: 2.67 ms, total: 2.67 ms\n",
      "Wall time: 15.3 ms\n"
     ]
    }
   ],
   "source": [
    "%%time\n",
    "df_job_title = df.select('job_title').dropDuplicates(['job_title'])"
   ]
  },
  {
   "cell_type": "markdown",
   "id": "offshore-architecture",
   "metadata": {},
   "source": [
    "print all rows from df_job_titles without truncating jobs"
   ]
  },
  {
   "cell_type": "code",
   "execution_count": 12,
   "id": "asian-edition",
   "metadata": {
    "ExecuteTime": {
     "start_time": "2023-04-22T19:10:06.744405Z",
     "end_time": "2023-04-22T19:10:07.265860Z"
    }
   },
   "outputs": [
    {
     "name": "stdout",
     "output_type": "stream",
     "text": [
      "+----------------------------------------+\n",
      "|job_title                               |\n",
      "+----------------------------------------+\n",
      "|3D Computer Vision Researcher           |\n",
      "|Lead Data Engineer                      |\n",
      "|Head of Machine Learning                |\n",
      "|Data Specialist                         |\n",
      "|Data Analytics Lead                     |\n",
      "|Machine Learning Scientist              |\n",
      "|Lead Data Analyst                       |\n",
      "|Data Engineering Manager                |\n",
      "|Staff Data Scientist                    |\n",
      "|ETL Developer                           |\n",
      "|Director of Data Engineering            |\n",
      "|Product Data Analyst                    |\n",
      "|Principal Data Scientist                |\n",
      "|AI Scientist                            |\n",
      "|Director of Data Science                |\n",
      "|Machine Learning Engineer               |\n",
      "|Lead Data Scientist                     |\n",
      "|Machine Learning Infrastructure Engineer|\n",
      "|Data Science Engineer                   |\n",
      "|Machine Learning Manager                |\n",
      "+----------------------------------------+\n",
      "only showing top 20 rows\n",
      "\n",
      "CPU times: user 1.2 ms, sys: 1.01 ms, total: 2.21 ms\n",
      "Wall time: 490 ms\n"
     ]
    }
   ],
   "source": [
    "%%time\n",
    "df_job_title.show(truncate=False)"
   ]
  },
  {
   "cell_type": "markdown",
   "id": "interim-pharmacy",
   "metadata": {},
   "source": [
    "create  df_analytic that will consists from max, avg, min USD salaries for all job_titles using groupBy. name of fields is avg_salary, min_salary, max_salary"
   ]
  },
  {
   "cell_type": "code",
   "execution_count": 13,
   "id": "naval-roller",
   "metadata": {
    "ExecuteTime": {
     "start_time": "2023-04-22T19:10:07.241715Z",
     "end_time": "2023-04-22T19:10:07.315069Z"
    }
   },
   "outputs": [
    {
     "name": "stdout",
     "output_type": "stream",
     "text": [
      "CPU times: user 3.6 ms, sys: 1.66 ms, total: 5.25 ms\n",
      "Wall time: 43.9 ms\n"
     ]
    }
   ],
   "source": [
    "%%time\n",
    "df_analytic = df.groupby('job_title') \\\n",
    "        .agg(\n",
    "        max('salary').alias('max_salary'),\n",
    "        avg('salary').alias('avg_salary'),\n",
    "        min('salary').alias('min_salary')\n",
    ")"
   ]
  },
  {
   "cell_type": "markdown",
   "id": "french-pledge",
   "metadata": {},
   "source": [
    "print all rows from df_analytic without trancating jobs"
   ]
  },
  {
   "cell_type": "code",
   "execution_count": 14,
   "id": "bacterial-depression",
   "metadata": {
    "ExecuteTime": {
     "start_time": "2023-04-22T19:10:07.290080Z",
     "end_time": "2023-04-22T19:10:07.673297Z"
    }
   },
   "outputs": [
    {
     "name": "stdout",
     "output_type": "stream",
     "text": [
      "+----------------------------------------+----------+------------------+----------+\n",
      "|job_title                               |max_salary|avg_salary        |min_salary|\n",
      "+----------------------------------------+----------+------------------+----------+\n",
      "|3D Computer Vision Researcher           |400000    |400000.0          |400000    |\n",
      "|Lead Data Engineer                      |276000    |140333.33333333334|56000     |\n",
      "|Head of Machine Learning                |6000000   |6000000.0         |6000000   |\n",
      "|Data Specialist                         |165000    |165000.0          |165000    |\n",
      "|Data Analytics Lead                     |405000    |405000.0          |405000    |\n",
      "|Machine Learning Scientist              |260000    |158412.5          |12000     |\n",
      "|Lead Data Analyst                       |1450000   |569000.0          |87000     |\n",
      "|Data Engineering Manager                |174000    |119799.8          |51999     |\n",
      "|Staff Data Scientist                    |105000    |105000.0          |105000    |\n",
      "|ETL Developer                           |50000     |50000.0           |50000     |\n",
      "|Director of Data Engineering            |200000    |141250.0          |82500     |\n",
      "|Product Data Analyst                    |450000    |235000.0          |20000     |\n",
      "|Principal Data Scientist                |416000    |206714.2857142857 |130000    |\n",
      "|AI Scientist                            |1335000   |290571.4285714286 |12000     |\n",
      "|Director of Data Science                |325000    |193285.7142857143 |110000    |\n",
      "|Machine Learning Engineer               |4900000   |272717.8780487805 |20000     |\n",
      "|Lead Data Scientist                     |3000000   |1101666.6666666667|115000    |\n",
      "|Machine Learning Infrastructure Engineer|195000    |97333.33333333333 |44000     |\n",
      "|Data Science Engineer                   |159500    |84500.0           |34000     |\n",
      "|Machine Learning Manager                |157000    |157000.0          |157000    |\n",
      "+----------------------------------------+----------+------------------+----------+\n",
      "only showing top 20 rows\n",
      "\n",
      "CPU times: user 797 µs, sys: 664 µs, total: 1.46 ms\n",
      "Wall time: 379 ms\n"
     ]
    }
   ],
   "source": [
    "%%time\n",
    "df_analytic.show(truncate=False)"
   ]
  },
  {
   "cell_type": "markdown",
   "id": "hazardous-color",
   "metadata": {},
   "source": [
    "now you need to add in df_analytic column row_id, that will show order of all job_titles depending on avg salary. they should be descending"
   ]
  },
  {
   "cell_type": "code",
   "execution_count": 15,
   "id": "nearby-treasurer",
   "metadata": {
    "ExecuteTime": {
     "start_time": "2023-04-22T19:10:07.674241Z",
     "end_time": "2023-04-22T19:10:07.721426Z"
    }
   },
   "outputs": [
    {
     "name": "stdout",
     "output_type": "stream",
     "text": [
      "CPU times: user 1.86 ms, sys: 1.55 ms, total: 3.4 ms\n",
      "Wall time: 37.1 ms\n"
     ]
    }
   ],
   "source": [
    "%%time\n",
    "windowSpec = Window.orderBy('avg_salary')\n",
    "df_analytic = df_analytic.withColumn(\"row_id\", row_number().over(windowSpec)).sort('row_id', ascending=False)"
   ]
  },
  {
   "cell_type": "markdown",
   "id": "documented-catalog",
   "metadata": {},
   "source": [
    "print all data from df_analytic"
   ]
  },
  {
   "cell_type": "code",
   "execution_count": 16,
   "id": "confirmed-monitoring",
   "metadata": {
    "ExecuteTime": {
     "start_time": "2023-04-22T19:10:07.714786Z",
     "end_time": "2023-04-22T19:10:08.181921Z"
    }
   },
   "outputs": [
    {
     "name": "stderr",
     "output_type": "stream",
     "text": [
      "23/04/22 19:10:07 WARN WindowExec: No Partition Defined for Window operation! Moving all data to a single partition, this can cause serious performance degradation.\n",
      "23/04/22 19:10:07 WARN WindowExec: No Partition Defined for Window operation! Moving all data to a single partition, this can cause serious performance degradation.\n",
      "23/04/22 19:10:07 WARN WindowExec: No Partition Defined for Window operation! Moving all data to a single partition, this can cause serious performance degradation.\n",
      "23/04/22 19:10:07 WARN WindowExec: No Partition Defined for Window operation! Moving all data to a single partition, this can cause serious performance degradation.\n",
      "23/04/22 19:10:07 WARN WindowExec: No Partition Defined for Window operation! Moving all data to a single partition, this can cause serious performance degradation.\n",
      "23/04/22 19:10:07 WARN WindowExec: No Partition Defined for Window operation! Moving all data to a single partition, this can cause serious performance degradation.\n",
      "23/04/22 19:10:07 WARN WindowExec: No Partition Defined for Window operation! Moving all data to a single partition, this can cause serious performance degradation.\n"
     ]
    },
    {
     "name": "stdout",
     "output_type": "stream",
     "text": [
      "+-----------------------------+----------+------------------+----------+------+\n",
      "|job_title                    |max_salary|avg_salary        |min_salary|row_id|\n",
      "+-----------------------------+----------+------------------+----------+------+\n",
      "|Head of Machine Learning     |6000000   |6000000.0         |6000000   |50    |\n",
      "|ML Engineer                  |8500000   |2676666.6666666665|14000     |49    |\n",
      "|BI Data Analyst              |11000000  |1902045.3333333333|9272      |48    |\n",
      "|Lead Data Scientist          |3000000   |1101666.6666666667|115000    |47    |\n",
      "|Data Science Manager         |7000000   |1062598.5833333333|137141    |46    |\n",
      "|Lead Data Analyst            |1450000   |569000.0          |87000     |45    |\n",
      "|Data Scientist               |30400000  |508347.2027972028 |4000      |44    |\n",
      "|Big Data Engineer            |1672000   |455000.0          |18000     |43    |\n",
      "|Data Analytics Lead          |405000    |405000.0          |405000    |42    |\n",
      "|3D Computer Vision Researcher|400000    |400000.0          |400000    |41    |\n",
      "|Business Data Analyst        |1400000   |355000.0          |50000     |40    |\n",
      "|Principal Data Engineer      |600000    |328333.3333333333 |185000    |39    |\n",
      "|AI Scientist                 |1335000   |290571.4285714286 |12000     |38    |\n",
      "|Financial Data Analyst       |450000    |275000.0          |100000    |37    |\n",
      "|Machine Learning Engineer    |4900000   |272717.8780487805 |20000     |36    |\n",
      "|NLP Engineer                 |240000    |240000.0          |240000    |35    |\n",
      "|Product Data Analyst         |450000    |235000.0          |20000     |34    |\n",
      "|Principal Data Scientist     |416000    |206714.2857142857 |130000    |33    |\n",
      "|Director of Data Science     |325000    |193285.7142857143 |110000    |32    |\n",
      "|Data Engineer                |4450000   |179210.55303030304|4000      |31    |\n",
      "+-----------------------------+----------+------------------+----------+------+\n",
      "only showing top 20 rows\n",
      "\n",
      "CPU times: user 4.18 ms, sys: 0 ns, total: 4.18 ms\n",
      "Wall time: 452 ms\n"
     ]
    }
   ],
   "source": [
    "%%time\n",
    "df_analytic.show(truncate=False)"
   ]
  },
  {
   "cell_type": "markdown",
   "id": "satellite-quarter",
   "metadata": {},
   "source": [
    "it isn't beautifull, so we need to put now row_id on first place in df_analytic"
   ]
  },
  {
   "cell_type": "code",
   "execution_count": 17,
   "id": "ranging-tribune",
   "metadata": {
    "ExecuteTime": {
     "start_time": "2023-04-22T19:10:08.172327Z",
     "end_time": "2023-04-22T19:10:08.193475Z"
    }
   },
   "outputs": [
    {
     "name": "stdout",
     "output_type": "stream",
     "text": [
      "CPU times: user 3.12 ms, sys: 0 ns, total: 3.12 ms\n",
      "Wall time: 14.4 ms\n"
     ]
    }
   ],
   "source": [
    "%%time\n",
    "df_analytic = df_analytic.select('row_id', 'job_title', 'max_salary', 'avg_salary', 'min_salary')"
   ]
  },
  {
   "cell_type": "markdown",
   "id": "reliable-amsterdam",
   "metadata": {},
   "source": [
    "print df_analytic now"
   ]
  },
  {
   "cell_type": "code",
   "execution_count": 18,
   "id": "classical-biology",
   "metadata": {
    "ExecuteTime": {
     "start_time": "2023-04-22T19:10:08.193217Z",
     "end_time": "2023-04-22T19:10:08.498223Z"
    }
   },
   "outputs": [
    {
     "name": "stderr",
     "output_type": "stream",
     "text": [
      "23/04/22 19:10:08 WARN WindowExec: No Partition Defined for Window operation! Moving all data to a single partition, this can cause serious performance degradation.\n",
      "23/04/22 19:10:08 WARN WindowExec: No Partition Defined for Window operation! Moving all data to a single partition, this can cause serious performance degradation.\n",
      "23/04/22 19:10:08 WARN WindowExec: No Partition Defined for Window operation! Moving all data to a single partition, this can cause serious performance degradation.\n",
      "23/04/22 19:10:08 WARN WindowExec: No Partition Defined for Window operation! Moving all data to a single partition, this can cause serious performance degradation.\n",
      "23/04/22 19:10:08 WARN WindowExec: No Partition Defined for Window operation! Moving all data to a single partition, this can cause serious performance degradation.\n",
      "23/04/22 19:10:08 WARN WindowExec: No Partition Defined for Window operation! Moving all data to a single partition, this can cause serious performance degradation.\n",
      "23/04/22 19:10:08 WARN WindowExec: No Partition Defined for Window operation! Moving all data to a single partition, this can cause serious performance degradation.\n"
     ]
    },
    {
     "name": "stdout",
     "output_type": "stream",
     "text": [
      "+------+-----------------------------+----------+------------------+----------+\n",
      "|row_id|job_title                    |max_salary|avg_salary        |min_salary|\n",
      "+------+-----------------------------+----------+------------------+----------+\n",
      "|50    |Head of Machine Learning     |6000000   |6000000.0         |6000000   |\n",
      "|49    |ML Engineer                  |8500000   |2676666.6666666665|14000     |\n",
      "|48    |BI Data Analyst              |11000000  |1902045.3333333333|9272      |\n",
      "|47    |Lead Data Scientist          |3000000   |1101666.6666666667|115000    |\n",
      "|46    |Data Science Manager         |7000000   |1062598.5833333333|137141    |\n",
      "|45    |Lead Data Analyst            |1450000   |569000.0          |87000     |\n",
      "|44    |Data Scientist               |30400000  |508347.2027972028 |4000      |\n",
      "|43    |Big Data Engineer            |1672000   |455000.0          |18000     |\n",
      "|42    |Data Analytics Lead          |405000    |405000.0          |405000    |\n",
      "|41    |3D Computer Vision Researcher|400000    |400000.0          |400000    |\n",
      "|40    |Business Data Analyst        |1400000   |355000.0          |50000     |\n",
      "|39    |Principal Data Engineer      |600000    |328333.3333333333 |185000    |\n",
      "|38    |AI Scientist                 |1335000   |290571.4285714286 |12000     |\n",
      "|37    |Financial Data Analyst       |450000    |275000.0          |100000    |\n",
      "|36    |Machine Learning Engineer    |4900000   |272717.8780487805 |20000     |\n",
      "|35    |NLP Engineer                 |240000    |240000.0          |240000    |\n",
      "|34    |Product Data Analyst         |450000    |235000.0          |20000     |\n",
      "|33    |Principal Data Scientist     |416000    |206714.2857142857 |130000    |\n",
      "|32    |Director of Data Science     |325000    |193285.7142857143 |110000    |\n",
      "|31    |Data Engineer                |4450000   |179210.55303030304|4000      |\n",
      "+------+-----------------------------+----------+------------------+----------+\n",
      "only showing top 20 rows\n",
      "\n",
      "CPU times: user 3.27 ms, sys: 0 ns, total: 3.27 ms\n",
      "Wall time: 229 ms\n"
     ]
    }
   ],
   "source": [
    "%%time\n",
    "df_analytic.show(truncate=False)"
   ]
  },
  {
   "cell_type": "markdown",
   "id": "hybrid-queensland",
   "metadata": {},
   "source": [
    "here you need to create df_exp_lvl with the biggest usd_salary(biggest_salary) for each experience_level(you need to save all fields like in entire dataframe)"
   ]
  },
  {
   "cell_type": "code",
   "execution_count": 19,
   "outputs": [
    {
     "name": "stdout",
     "output_type": "stream",
     "text": [
      "+----------------+------------------+\n",
      "|experience_level|max(salary_in_usd)|\n",
      "+----------------+------------------+\n",
      "|              EX|            600000|\n",
      "|              MI|            450000|\n",
      "|              EN|            250000|\n",
      "|              SE|            412000|\n",
      "+----------------+------------------+\n",
      "\n",
      "CPU times: user 3.63 ms, sys: 48 µs, total: 3.68 ms\n",
      "Wall time: 237 ms\n"
     ]
    }
   ],
   "source": [
    "%%time\n",
    "group_data = df.groupBy('experience_level').max('salary_in_usd').show()"
   ],
   "metadata": {
    "collapsed": false,
    "ExecuteTime": {
     "start_time": "2023-04-22T19:10:08.427172Z",
     "end_time": "2023-04-22T19:10:08.691385Z"
    }
   }
  },
  {
   "cell_type": "code",
   "execution_count": 20,
   "outputs": [
    {
     "name": "stdout",
     "output_type": "stream",
     "text": [
      "CPU times: user 2.8 ms, sys: 0 ns, total: 2.8 ms\n",
      "Wall time: 10.5 ms\n"
     ]
    }
   ],
   "source": [
    "%%time\n",
    "# Не знаю как сделать красивее\n",
    "df_exp_lvl = df.filter(\n",
    "        (df['experience_level'] == 'EX') & (df['salary_in_usd'] == 600000) |\n",
    "        (df['experience_level'] == 'MI') & (df['salary_in_usd'] == 450000) |\n",
    "        (df['experience_level'] == 'EN') & (df['salary_in_usd'] == 250000) |\n",
    "        (df['experience_level'] == 'SE') & (df['salary_in_usd'] == 412000)\n",
    "        )"
   ],
   "metadata": {
    "collapsed": false,
    "ExecuteTime": {
     "start_time": "2023-04-22T19:10:08.668700Z",
     "end_time": "2023-04-22T19:10:08.691957Z"
    }
   }
  },
  {
   "cell_type": "markdown",
   "id": "innovative-hierarchy",
   "metadata": {},
   "source": [
    "print here df_exp_lvl"
   ]
  },
  {
   "cell_type": "code",
   "execution_count": 21,
   "outputs": [
    {
     "name": "stdout",
     "output_type": "stream",
     "text": [
      "+---+---------+----------------+---------------+-------------------------+------+---------------+-------------+------------------+------------+----------------+------------+\n",
      "|id |work_year|experience_level|employment_type|job_title                |salary|salary_currency|salary_in_usd|employee_residence|remote_ratio|company_location|company_size|\n",
      "+---+---------+----------------+---------------+-------------------------+------+---------------+-------------+------------------+------------+----------------+------------+\n",
      "|33 |2020     |MI              |FT             |Research Scientist       |450000|USD            |450000       |US                |0           |US              |M           |\n",
      "|37 |2020     |EN              |FT             |Machine Learning Engineer|250000|USD            |250000       |US                |50          |US              |L           |\n",
      "|63 |2020     |SE              |FT             |Data Scientist           |412000|USD            |412000       |US                |100         |US              |L           |\n",
      "|97 |2021     |MI              |FT             |Financial Data Analyst   |450000|USD            |450000       |US                |100         |US              |L           |\n",
      "|252|2021     |EX              |FT             |Principal Data Engineer  |600000|USD            |600000       |US                |100         |US              |L           |\n",
      "+---+---------+----------------+---------------+-------------------------+------+---------------+-------------+------------------+------------+----------------+------------+\n",
      "\n"
     ]
    },
    {
     "name": "stderr",
     "output_type": "stream",
     "text": [
      "23/04/22 19:10:08 WARN CSVHeaderChecker: CSV header does not conform to the schema.\n",
      " Header: , work_year, experience_level, employment_type, job_title, salary, salary_currency, salary_in_usd, employee_residence, remote_ratio, company_location, company_size\n",
      " Schema: _c0, work_year, experience_level, employment_type, job_title, salary, salary_currency, salary_in_usd, employee_residence, remote_ratio, company_location, company_size\n",
      "Expected: _c0 but found: \n",
      "CSV file: file:///home/tonipaltus/Innowise/spark_demo/spark_demo_course/1_PySpark_Basics/dataset/ds_salaries.csv\n"
     ]
    }
   ],
   "source": [
    "df_exp_lvl.show(truncate=False)"
   ],
   "metadata": {
    "collapsed": false,
    "ExecuteTime": {
     "start_time": "2023-04-22T19:10:08.682821Z",
     "end_time": "2023-04-22T19:10:08.896445Z"
    }
   }
  },
  {
   "cell_type": "markdown",
   "id": "hawaiian-mortgage",
   "metadata": {},
   "source": [
    "create df_best that consists from rows where salary of guy same as biggest salary for other people in his exp_lvl and choose only columns: id, experience_level, biggest_salary, employee_residence"
   ]
  },
  {
   "cell_type": "code",
   "execution_count": 22,
   "id": "toxic-prompt",
   "metadata": {
    "ExecuteTime": {
     "start_time": "2023-04-22T19:10:08.796493Z",
     "end_time": "2023-04-22T19:10:08.927041Z"
    }
   },
   "outputs": [
    {
     "name": "stdout",
     "output_type": "stream",
     "text": [
      "CPU times: user 2.47 ms, sys: 0 ns, total: 2.47 ms\n",
      "Wall time: 8.58 ms\n"
     ]
    }
   ],
   "source": [
    "%%time\n",
    "df_best = df_exp_lvl.select(['id', 'experience_level', 'salary_in_usd', 'employee_residence'])"
   ]
  },
  {
   "cell_type": "markdown",
   "id": "complex-librarian",
   "metadata": {},
   "source": [
    "print df_best"
   ]
  },
  {
   "cell_type": "code",
   "execution_count": 23,
   "id": "smart-texas",
   "metadata": {
    "ExecuteTime": {
     "start_time": "2023-04-22T19:10:08.810228Z",
     "end_time": "2023-04-22T19:10:09.020014Z"
    }
   },
   "outputs": [
    {
     "name": "stdout",
     "output_type": "stream",
     "text": [
      "+---+----------------+-------------+------------------+\n",
      "|id |experience_level|salary_in_usd|employee_residence|\n",
      "+---+----------------+-------------+------------------+\n",
      "|33 |MI              |450000       |US                |\n",
      "|37 |EN              |250000       |US                |\n",
      "|63 |SE              |412000       |US                |\n",
      "|97 |MI              |450000       |US                |\n",
      "|252|EX              |600000       |US                |\n",
      "+---+----------------+-------------+------------------+\n",
      "\n",
      "CPU times: user 2.42 ms, sys: 0 ns, total: 2.42 ms\n",
      "Wall time: 82.7 ms\n"
     ]
    },
    {
     "name": "stderr",
     "output_type": "stream",
     "text": [
      "23/04/22 19:10:08 WARN CSVHeaderChecker: CSV header does not conform to the schema.\n",
      " Header: , experience_level, salary_in_usd, employee_residence\n",
      " Schema: _c0, experience_level, salary_in_usd, employee_residence\n",
      "Expected: _c0 but found: \n",
      "CSV file: file:///home/tonipaltus/Innowise/spark_demo/spark_demo_course/1_PySpark_Basics/dataset/ds_salaries.csv\n"
     ]
    }
   ],
   "source": [
    "%%time\n",
    "df_best.show(truncate=False)"
   ]
  },
  {
   "cell_type": "markdown",
   "id": "integral-brass",
   "metadata": {},
   "source": [
    "drop duplicates if exist by experience_level"
   ]
  },
  {
   "cell_type": "code",
   "execution_count": 24,
   "id": "immune-marine",
   "metadata": {
    "ExecuteTime": {
     "start_time": "2023-04-22T19:10:08.898037Z",
     "end_time": "2023-04-22T19:10:09.020641Z"
    }
   },
   "outputs": [
    {
     "name": "stdout",
     "output_type": "stream",
     "text": [
      "CPU times: user 1.47 ms, sys: 0 ns, total: 1.47 ms\n",
      "Wall time: 2.97 ms\n"
     ]
    }
   ],
   "source": [
    "%%time\n",
    "df_best = df_best.dropDuplicates(['experience_level'])"
   ]
  },
  {
   "cell_type": "markdown",
   "id": "connected-credit",
   "metadata": {},
   "source": [
    "print df_best"
   ]
  },
  {
   "cell_type": "code",
   "execution_count": 25,
   "id": "specified-wellington",
   "metadata": {
    "ExecuteTime": {
     "start_time": "2023-04-22T19:10:08.905429Z",
     "end_time": "2023-04-22T19:10:09.234076Z"
    }
   },
   "outputs": [
    {
     "name": "stderr",
     "output_type": "stream",
     "text": [
      "23/04/22 19:10:09 WARN CSVHeaderChecker: CSV header does not conform to the schema.\n",
      " Header: , experience_level, salary_in_usd, employee_residence\n",
      " Schema: _c0, experience_level, salary_in_usd, employee_residence\n",
      "Expected: _c0 but found: \n",
      "CSV file: file:///home/tonipaltus/Innowise/spark_demo/spark_demo_course/1_PySpark_Basics/dataset/ds_salaries.csv\n"
     ]
    },
    {
     "name": "stdout",
     "output_type": "stream",
     "text": [
      "+---+----------------+-------------+------------------+\n",
      "|id |experience_level|salary_in_usd|employee_residence|\n",
      "+---+----------------+-------------+------------------+\n",
      "|37 |EN              |250000       |US                |\n",
      "|252|EX              |600000       |US                |\n",
      "|33 |MI              |450000       |US                |\n",
      "|63 |SE              |412000       |US                |\n",
      "+---+----------------+-------------+------------------+\n",
      "\n",
      "CPU times: user 4.39 ms, sys: 486 µs, total: 4.88 ms\n",
      "Wall time: 302 ms\n"
     ]
    }
   ],
   "source": [
    "%%time\n",
    "df_best.show(truncate=False)"
   ]
  },
  {
   "cell_type": "markdown",
   "id": "facial-plant",
   "metadata": {},
   "source": [
    "create df_new_best from df_best without id, and make the next: when exp_level = MI we want middle, when SE we want senior, else Null"
   ]
  },
  {
   "cell_type": "code",
   "execution_count": 26,
   "id": "infinite-retail",
   "metadata": {
    "ExecuteTime": {
     "start_time": "2023-04-22T19:10:09.213201Z",
     "end_time": "2023-04-22T19:10:09.267714Z"
    }
   },
   "outputs": [
    {
     "name": "stdout",
     "output_type": "stream",
     "text": [
      "CPU times: user 2.09 ms, sys: 1.62 ms, total: 3.71 ms\n",
      "Wall time: 25.3 ms\n"
     ]
    }
   ],
   "source": [
    "%%time\n",
    "df_new_best = df_best.withColumn('experience_level',\n",
    "                                 when(df.experience_level == 'MI', 'middle').\n",
    "                                 when(df.experience_level == 'SE', 'senior').\n",
    "                                 otherwise(None)\n",
    "                                 ).drop('id')"
   ]
  },
  {
   "cell_type": "markdown",
   "id": "changing-fairy",
   "metadata": {},
   "source": [
    "print df_new_best"
   ]
  },
  {
   "cell_type": "code",
   "execution_count": 27,
   "id": "endless-framework",
   "metadata": {
    "ExecuteTime": {
     "start_time": "2023-04-22T19:10:09.243353Z",
     "end_time": "2023-04-22T19:10:09.548157Z"
    }
   },
   "outputs": [
    {
     "name": "stdout",
     "output_type": "stream",
     "text": [
      "+----------------+-------------+------------------+\n",
      "|experience_level|salary_in_usd|employee_residence|\n",
      "+----------------+-------------+------------------+\n",
      "|null            |250000       |US                |\n",
      "|null            |600000       |US                |\n",
      "|middle          |450000       |US                |\n",
      "|senior          |412000       |US                |\n",
      "+----------------+-------------+------------------+\n",
      "\n",
      "CPU times: user 1.31 ms, sys: 1.01 ms, total: 2.32 ms\n",
      "Wall time: 243 ms\n"
     ]
    }
   ],
   "source": [
    "%%time\n",
    "df_new_best.show(truncate=False)"
   ]
  },
  {
   "cell_type": "markdown",
   "id": "mineral-status",
   "metadata": {},
   "source": [
    "write df_new_best like 1.csv and load then it to df_final"
   ]
  },
  {
   "cell_type": "code",
   "execution_count": 28,
   "id": "baking-progress",
   "metadata": {
    "ExecuteTime": {
     "start_time": "2023-04-22T19:10:09.528086Z",
     "end_time": "2023-04-22T19:10:09.892208Z"
    }
   },
   "outputs": [
    {
     "name": "stdout",
     "output_type": "stream",
     "text": [
      "CPU times: user 1.27 ms, sys: 983 µs, total: 2.26 ms\n",
      "Wall time: 394 ms\n"
     ]
    }
   ],
   "source": [
    "%%time\n",
    "df_new_best.write.options(header=True).format('csv').mode('overwrite').save('dataset/1.csv')\n",
    "df_final = spark.read.options(header=True).format('csv').load('dataset/1.csv')"
   ]
  },
  {
   "cell_type": "markdown",
   "id": "vocal-shooting",
   "metadata": {},
   "source": [
    "print df_final"
   ]
  },
  {
   "cell_type": "code",
   "execution_count": 29,
   "id": "expired-viewer",
   "metadata": {
    "ExecuteTime": {
     "start_time": "2023-04-22T19:10:09.889635Z",
     "end_time": "2023-04-22T19:10:09.983119Z"
    }
   },
   "outputs": [
    {
     "name": "stdout",
     "output_type": "stream",
     "text": [
      "+----------------+-------------+------------------+\n",
      "|experience_level|salary_in_usd|employee_residence|\n",
      "+----------------+-------------+------------------+\n",
      "|null            |250000       |US                |\n",
      "|null            |600000       |US                |\n",
      "|middle          |450000       |US                |\n",
      "|senior          |412000       |US                |\n",
      "+----------------+-------------+------------------+\n",
      "\n",
      "CPU times: user 0 ns, sys: 1.46 ms, total: 1.46 ms\n",
      "Wall time: 60.1 ms\n"
     ]
    }
   ],
   "source": [
    "%%time\n",
    "df_final.show(truncate=False)"
   ]
  },
  {
   "cell_type": "markdown",
   "id": "nutritional-progress",
   "metadata": {},
   "source": [
    "filter df_final to delete experience_level where it Null, then join this table by biggest_salary(salary_in_usd) and employee_residence with entire df"
   ]
  },
  {
   "cell_type": "code",
   "execution_count": 30,
   "id": "small-polymer",
   "metadata": {
    "ExecuteTime": {
     "start_time": "2023-04-22T19:10:09.968586Z",
     "end_time": "2023-04-22T19:10:10.252238Z"
    }
   },
   "outputs": [
    {
     "name": "stdout",
     "output_type": "stream",
     "text": [
      "+----------------+-------------+------------------+---+---------+----------------+---------------+----------------------+------+---------------+-------------+------------------+------------+----------------+------------+\n",
      "|experience_level|salary_in_usd|employee_residence|id |work_year|experience_level|employment_type|job_title             |salary|salary_currency|salary_in_usd|employee_residence|remote_ratio|company_location|company_size|\n",
      "+----------------+-------------+------------------+---+---------+----------------+---------------+----------------------+------+---------------+-------------+------------------+------------+----------------+------------+\n",
      "|middle          |450000       |US                |33 |2020     |MI              |FT             |Research Scientist    |450000|USD            |450000       |US                |0           |US              |M           |\n",
      "|senior          |412000       |US                |63 |2020     |SE              |FT             |Data Scientist        |412000|USD            |412000       |US                |100         |US              |L           |\n",
      "|middle          |450000       |US                |97 |2021     |MI              |FT             |Financial Data Analyst|450000|USD            |450000       |US                |100         |US              |L           |\n",
      "+----------------+-------------+------------------+---+---------+----------------+---------------+----------------------+------+---------------+-------------+------------------+------------+----------------+------------+\n",
      "\n",
      "CPU times: user 58 µs, sys: 3.97 ms, total: 4.03 ms\n",
      "Wall time: 289 ms\n"
     ]
    },
    {
     "name": "stderr",
     "output_type": "stream",
     "text": [
      "23/04/22 19:10:10 WARN CSVHeaderChecker: CSV header does not conform to the schema.\n",
      " Header: , work_year, experience_level, employment_type, job_title, salary, salary_currency, salary_in_usd, employee_residence, remote_ratio, company_location, company_size\n",
      " Schema: _c0, work_year, experience_level, employment_type, job_title, salary, salary_currency, salary_in_usd, employee_residence, remote_ratio, company_location, company_size\n",
      "Expected: _c0 but found: \n",
      "CSV file: file:///home/tonipaltus/Innowise/spark_demo/spark_demo_course/1_PySpark_Basics/dataset/ds_salaries.csv\n"
     ]
    }
   ],
   "source": [
    "%%time\n",
    "df_final = df_final.dropna(subset='experience_level')\n",
    "df_final.join(df, (df_final.salary_in_usd == df.salary_in_usd) & (df_final.employee_residence == df.employee_residence), 'inner').show(truncate=False)"
   ]
  },
  {
   "cell_type": "markdown",
   "id": "variable-twins",
   "metadata": {},
   "source": [
    "print df_final"
   ]
  },
  {
   "cell_type": "code",
   "execution_count": 31,
   "outputs": [
    {
     "name": "stdout",
     "output_type": "stream",
     "text": [
      "+----------------+-------------+------------------+\n",
      "|experience_level|salary_in_usd|employee_residence|\n",
      "+----------------+-------------+------------------+\n",
      "|          middle|       450000|                US|\n",
      "|          senior|       412000|                US|\n",
      "+----------------+-------------+------------------+\n",
      "\n"
     ]
    }
   ],
   "source": [
    "df_final.show()"
   ],
   "metadata": {
    "collapsed": false,
    "ExecuteTime": {
     "start_time": "2023-04-22T19:10:10.250575Z",
     "end_time": "2023-04-22T19:10:10.315340Z"
    }
   }
  },
  {
   "cell_type": "markdown",
   "id": "variable-moore",
   "metadata": {},
   "source": [
    "last task is to save in variable and then print this variable of the biggest salary_in_usd from df_final"
   ]
  },
  {
   "cell_type": "code",
   "execution_count": 32,
   "id": "individual-institution",
   "metadata": {
    "ExecuteTime": {
     "start_time": "2023-04-22T19:10:10.316877Z",
     "end_time": "2023-04-22T19:10:10.459349Z"
    }
   },
   "outputs": [
    {
     "name": "stdout",
     "output_type": "stream",
     "text": [
      "450000\n",
      "CPU times: user 3.1 ms, sys: 1.06 ms, total: 4.16 ms\n",
      "Wall time: 138 ms\n"
     ]
    }
   ],
   "source": [
    "%%time\n",
    "biggest_salary = df_final.agg(max('salary_in_usd')).collect()[0][0]\n",
    "print(biggest_salary)"
   ]
  },
  {
   "cell_type": "markdown",
   "id": "stopped-procedure",
   "metadata": {},
   "source": [
    "It is the end of PySpark basics. In other lessons you will learn optimizations technics and how to make distributed system"
   ]
  }
 ],
 "metadata": {
  "kernelspec": {
   "display_name": "Python 3",
   "language": "python",
   "name": "python3"
  },
  "language_info": {
   "codemirror_mode": {
    "name": "ipython",
    "version": 3
   },
   "file_extension": ".py",
   "mimetype": "text/x-python",
   "name": "python",
   "nbconvert_exporter": "python",
   "pygments_lexer": "ipython3",
   "version": "3.9.2"
  }
 },
 "nbformat": 4,
 "nbformat_minor": 5
}
